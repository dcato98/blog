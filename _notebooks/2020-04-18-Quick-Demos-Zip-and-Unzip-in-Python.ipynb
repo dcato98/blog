{
 "cells": [
  {
   "cell_type": "markdown",
   "metadata": {},
   "source": [
    "# Quick Demos: Zip and Unzip in Python\n",
    "\n",
    "> A quick demo showing how to __zip/unzip files__ in a Jupyter notebook using Python.\n",
    "\n",
    "- toc: false\n",
    "- branch: master\n",
    "- badges: true\n",
    "- comments: true\n",
    "- author: David Cato\n",
    "- categories: [jupyter, python, quick-demo]"
   ]
  },
  {
   "cell_type": "markdown",
   "metadata": {},
   "source": [
    "---\n",
    "### Purpose: \n",
    "\n",
    " - Demo how to __zip/unzip files__ in a Jupyter notebook using Python\n",
    "\n",
    "### Overview:\n",
    "1. select files in directory\n",
    "2. sample n files\n",
    "3. write sampled filepaths into csv\n",
    "4. __zip__ sampled files\n",
    "5. __unzip__ sampled files\n",
    "6. read sampled filepaths from csv\n",
    "\n",
    "Author: David Cato"
   ]
  },
  {
   "cell_type": "code",
   "execution_count": 1,
   "metadata": {},
   "outputs": [],
   "source": [
    "from pathlib import Path\n",
    "from fastai.vision import get_image_files\n",
    "import numpy as np\n",
    "from zipfile import ZipFile"
   ]
  },
  {
   "cell_type": "code",
   "execution_count": 2,
   "metadata": {},
   "outputs": [],
   "source": [
    "# working directory\n",
    "path = Path('/home/dc/coronahack/source/nih-chest-xrays')\n",
    "\n",
    "# source directory containing files to zip\n",
    "src_dir   = path / 'data'\n",
    "\n",
    "# csv filepath (to be created/overwritten)\n",
    "csv_dst   = path / 'nih-chest-xrays_sample-2000.csv'\n",
    "\n",
    "# zip filepath (to be created/overwritten)\n",
    "zip_dst   = path / 'nih-chest-xrays_sample-2000.zip'\n",
    "\n",
    "# unzip directory (to be created/overwritten)\n",
    "unzip_dst = path / 'sample-2000'"
   ]
  },
  {
   "cell_type": "markdown",
   "metadata": {
    "heading_collapsed": true
   },
   "source": [
    "## Create Zip"
   ]
  },
  {
   "cell_type": "markdown",
   "metadata": {
    "hidden": true
   },
   "source": [
    "### 1. Select files in specified directory\n",
    "\n",
    "(e.g all image files in dir + subdirs)"
   ]
  },
  {
   "cell_type": "code",
   "execution_count": 3,
   "metadata": {
    "hidden": true
   },
   "outputs": [
    {
     "data": {
      "text/plain": [
       "(112120,\n",
       " [PosixPath('/home/dc/coronahack/source/nih-chest-xrays/data/images_001/images/00000001_000.png'),\n",
       "  PosixPath('/home/dc/coronahack/source/nih-chest-xrays/data/images_001/images/00000001_001.png'),\n",
       "  PosixPath('/home/dc/coronahack/source/nih-chest-xrays/data/images_001/images/00000001_002.png'),\n",
       "  PosixPath('/home/dc/coronahack/source/nih-chest-xrays/data/images_001/images/00000002_000.png'),\n",
       "  PosixPath('/home/dc/coronahack/source/nih-chest-xrays/data/images_001/images/00000003_000.png')])"
      ]
     },
     "execution_count": 3,
     "metadata": {},
     "output_type": "execute_result"
    }
   ],
   "source": [
    "files = sorted(get_image_files(src_dir, recurse=True))\n",
    "len(files), files[:5]"
   ]
  },
  {
   "cell_type": "markdown",
   "metadata": {
    "hidden": true
   },
   "source": [
    "### 2. Randomly sample `n` files from list\n",
    "\n",
    "(optional: set seed)"
   ]
  },
  {
   "cell_type": "code",
   "execution_count": 4,
   "metadata": {
    "hidden": true
   },
   "outputs": [
    {
     "data": {
      "text/plain": [
       "array([PosixPath('/home/dc/coronahack/source/nih-chest-xrays/data/images_008/images/00017670_005.png'),\n",
       "       PosixPath('/home/dc/coronahack/source/nih-chest-xrays/data/images_008/images/00016410_036.png'),\n",
       "       PosixPath('/home/dc/coronahack/source/nih-chest-xrays/data/images_006/images/00012300_000.png'),\n",
       "       PosixPath('/home/dc/coronahack/source/nih-chest-xrays/data/images_002/images/00003864_001.png'), ...,\n",
       "       PosixPath('/home/dc/coronahack/source/nih-chest-xrays/data/images_003/images/00004037_001.png'),\n",
       "       PosixPath('/home/dc/coronahack/source/nih-chest-xrays/data/images_003/images/00006469_009.png'),\n",
       "       PosixPath('/home/dc/coronahack/source/nih-chest-xrays/data/images_005/images/00009545_002.png'),\n",
       "       PosixPath('/home/dc/coronahack/source/nih-chest-xrays/data/images_008/images/00017914_000.png')], dtype=object)"
      ]
     },
     "execution_count": 4,
     "metadata": {},
     "output_type": "execute_result"
    }
   ],
   "source": [
    "n = 2000\n",
    "\n",
    "seed = np.random.randint(0, 2**32-1)\n",
    "# seed = 0\n",
    "np.random.seed(seed)\n",
    "\n",
    "sample_paths = np.random.choice(files, n, replace=False)\n",
    "sample_paths"
   ]
  },
  {
   "cell_type": "markdown",
   "metadata": {
    "hidden": true
   },
   "source": [
    "### 3. Write csv of original file paths into `csv_dst` file"
   ]
  },
  {
   "cell_type": "code",
   "execution_count": 5,
   "metadata": {
    "hidden": true
   },
   "outputs": [
    {
     "data": {
      "text/plain": [
       "(True,\n",
       " PosixPath('/home/dc/coronahack/source/nih-chest-xrays/nih-chest-xrays_sample-2000.csv'))"
      ]
     },
     "execution_count": 5,
     "metadata": {},
     "output_type": "execute_result"
    }
   ],
   "source": [
    "csv_dst.exists(), csv_dst"
   ]
  },
  {
   "cell_type": "code",
   "execution_count": 6,
   "metadata": {
    "hidden": true
   },
   "outputs": [],
   "source": [
    "np.savetxt(csv_dst, sample_paths.astype(np.str), fmt='%s', delimiter=',')"
   ]
  },
  {
   "cell_type": "markdown",
   "metadata": {
    "hidden": true
   },
   "source": [
    "### 4. Zip files in list into `zip_dst` file"
   ]
  },
  {
   "cell_type": "code",
   "execution_count": 7,
   "metadata": {
    "hidden": true
   },
   "outputs": [
    {
     "data": {
      "text/plain": [
       "(True,\n",
       " PosixPath('/home/dc/coronahack/source/nih-chest-xrays/nih-chest-xrays_sample-2000.zip'))"
      ]
     },
     "execution_count": 7,
     "metadata": {},
     "output_type": "execute_result"
    }
   ],
   "source": [
    "zip_dst.exists(), zip_dst"
   ]
  },
  {
   "cell_type": "code",
   "execution_count": 8,
   "metadata": {
    "hidden": true
   },
   "outputs": [],
   "source": [
    "with ZipFile(zip_dst,'w') as zf:\n",
    "    for fn in sample_paths: \n",
    "        zf.write(fn) "
   ]
  },
  {
   "cell_type": "markdown",
   "metadata": {
    "heading_collapsed": true
   },
   "source": [
    "## Unzip files"
   ]
  },
  {
   "cell_type": "markdown",
   "metadata": {
    "hidden": true
   },
   "source": [
    "### 5. Unzip files into `unzip_dst` folder"
   ]
  },
  {
   "cell_type": "code",
   "execution_count": 9,
   "metadata": {
    "hidden": true
   },
   "outputs": [
    {
     "data": {
      "text/plain": [
       "(True, PosixPath('/home/dc/coronahack/source/nih-chest-xrays/sample-2000'))"
      ]
     },
     "execution_count": 9,
     "metadata": {},
     "output_type": "execute_result"
    }
   ],
   "source": [
    "unzip_dst.mkdir(parents=True, exist_ok=True)\n",
    "unzip_dst.exists(), unzip_dst"
   ]
  },
  {
   "cell_type": "code",
   "execution_count": 10,
   "metadata": {
    "hidden": true
   },
   "outputs": [],
   "source": [
    "with ZipFile(zip_dst, 'r') as zf:\n",
    "    # zf.printdir() # print zip contents\n",
    "    zf.extractall(unzip_dst)"
   ]
  },
  {
   "cell_type": "markdown",
   "metadata": {
    "hidden": true
   },
   "source": [
    "### 6. Load csv of original file paths"
   ]
  },
  {
   "cell_type": "code",
   "execution_count": 11,
   "metadata": {
    "hidden": true
   },
   "outputs": [
    {
     "data": {
      "text/plain": [
       "(True,\n",
       " PosixPath('/home/dc/coronahack/source/nih-chest-xrays/nih-chest-xrays_sample-2000.csv'))"
      ]
     },
     "execution_count": 11,
     "metadata": {},
     "output_type": "execute_result"
    }
   ],
   "source": [
    "csv_dst.exists(), csv_dst"
   ]
  },
  {
   "cell_type": "code",
   "execution_count": 12,
   "metadata": {
    "hidden": true
   },
   "outputs": [
    {
     "data": {
      "text/plain": [
       "array(['/home/dc/coronahack/source/nih-chest-xrays/data/images_008/images/00017670_005.png',\n",
       "       '/home/dc/coronahack/source/nih-chest-xrays/data/images_008/images/00016410_036.png',\n",
       "       '/home/dc/coronahack/source/nih-chest-xrays/data/images_006/images/00012300_000.png',\n",
       "       '/home/dc/coronahack/source/nih-chest-xrays/data/images_002/images/00003864_001.png', ...,\n",
       "       '/home/dc/coronahack/source/nih-chest-xrays/data/images_003/images/00004037_001.png',\n",
       "       '/home/dc/coronahack/source/nih-chest-xrays/data/images_003/images/00006469_009.png',\n",
       "       '/home/dc/coronahack/source/nih-chest-xrays/data/images_005/images/00009545_002.png',\n",
       "       '/home/dc/coronahack/source/nih-chest-xrays/data/images_008/images/00017914_000.png'], dtype='<U82')"
      ]
     },
     "execution_count": 12,
     "metadata": {},
     "output_type": "execute_result"
    }
   ],
   "source": [
    "np.loadtxt(csv_dst, dtype=np.str, delimiter=',')"
   ]
  },
  {
   "cell_type": "code",
   "execution_count": null,
   "metadata": {
    "hidden": true
   },
   "outputs": [],
   "source": []
  }
 ],
 "metadata": {
  "kernelspec": {
   "display_name": "Python 3",
   "language": "python",
   "name": "python3"
  },
  "language_info": {
   "codemirror_mode": {
    "name": "ipython",
    "version": 3
   },
   "file_extension": ".py",
   "mimetype": "text/x-python",
   "name": "python",
   "nbconvert_exporter": "python",
   "pygments_lexer": "ipython3",
   "version": "3.7.4"
  }
 },
 "nbformat": 4,
 "nbformat_minor": 2
}
